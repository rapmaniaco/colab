{
  "nbformat": 4,
  "nbformat_minor": 0,
  "metadata": {
    "colab": {
      "name": "Carregar_Midias.ipynb",
      "provenance": [],
      "collapsed_sections": [
        "mEYLq6GG1nOF"
      ],
      "toc_visible": true
    },
    "kernelspec": {
      "display_name": "Python 3",
      "name": "python3"
    },
    "language_info": {
      "name": "python"
    }
  },
  "cells": [
    {
      "cell_type": "markdown",
      "metadata": {
        "id": "J2I75_muyHod"
      },
      "source": [
        "# **Carregar imagem a partir de link**"
      ]
    },
    {
      "cell_type": "markdown",
      "metadata": {
        "id": "IcJBbq3b66tB"
      },
      "source": [
        "**Baixar imagem com !wget**"
      ]
    },
    {
      "cell_type": "code",
      "metadata": {
        "id": "F6KJNlzAFgd2"
      },
      "source": [
        "!wget -O 'imagem.jpg' 'https://2.bp.blogspot.com/-IWfpNl_1zP0/VNYelcTTuyI/AAAAAAAAGeU/R7XfBtTPaFI/s1600/rtytr_thumb%5B1%5D.jpg'"
      ],
      "execution_count": null,
      "outputs": []
    },
    {
      "cell_type": "markdown",
      "metadata": {
        "id": "FNAQjwpSyMSz"
      },
      "source": [
        "**Carregar imagem com OpenCV**"
      ]
    },
    {
      "cell_type": "code",
      "metadata": {
        "id": "WOzYu4-EGKBa"
      },
      "source": [
        "import cv2\n",
        "from google.colab.patches import cv2_imshow\n",
        "#A função cv2.imshow é incompatível com Jupyter\n",
        "#https://github.com/jupyter/notebook/issues/3935"
      ],
      "execution_count": null,
      "outputs": []
    },
    {
      "cell_type": "code",
      "metadata": {
        "id": "3rRRHNs32w0d"
      },
      "source": [
        "imagem = cv2.imread('imagem.jpg')\n",
        "cv2_imshow(imagem)"
      ],
      "execution_count": null,
      "outputs": []
    },
    {
      "cell_type": "markdown",
      "metadata": {
        "id": "5LzyEmjp7FiG"
      },
      "source": [
        "**Carregar imagem com skimage**"
      ]
    },
    {
      "cell_type": "code",
      "metadata": {
        "id": "MOTrHDIk7LIX"
      },
      "source": [
        "from skimage import io"
      ],
      "execution_count": null,
      "outputs": []
    },
    {
      "cell_type": "code",
      "metadata": {
        "id": "M4IeoES02qUE"
      },
      "source": [
        "imagem = io.imread('https://2.bp.blogspot.com/-IWfpNl_1zP0/VNYelcTTuyI/AAAAAAAAGeU/R7XfBtTPaFI/s1600/rtytr_thumb%5B1%5D.jpg')\n",
        "imagem_2 = cv2.cvtColor(imagem, cv2.COLOR_BGR2RGB)\n",
        "imagem_concatenada = cv2.hconcat((imagem, imagem_2))\n",
        "cv2_imshow(imagem_concatenada)"
      ],
      "execution_count": null,
      "outputs": []
    },
    {
      "cell_type": "markdown",
      "metadata": {
        "id": "sopI3l_V91Z0"
      },
      "source": [
        "**Carregar imagens com skimage**"
      ]
    },
    {
      "cell_type": "code",
      "metadata": {
        "id": "KjUN9rzn97FG"
      },
      "source": [
        "# Create a list to store the urls of the images\n",
        "urls = [\"https://2.bp.blogspot.com/-IWfpNl_1zP0/VNYelcTTuyI/AAAAAAAAGeU/R7XfBtTPaFI/s1600/rtytr_thumb%5B1%5D.jpg\",\n",
        "       \"https://www.marica.rj.gov.br/wp-content/uploads/2015/03/wnialyz2jla4.jpg\"]  \n",
        "# Read and display the image\n",
        "# loop over the image URLs, you could store several image urls in the list\n",
        "\n",
        "for url in urls:\n",
        "  imagem = io.imread(url) \n",
        "  image_2 = cv2.cvtColor(imagem, cv2.COLOR_BGR2RGB)\n",
        "  imagem_concatenada = cv2.hconcat((imagem, imagem_2))\n",
        "  cv2_imshow(imagem_concatenada)\n",
        "  print('\\n')"
      ],
      "execution_count": null,
      "outputs": []
    },
    {
      "cell_type": "markdown",
      "metadata": {
        "id": "mEYLq6GG1nOF"
      },
      "source": [
        "# **Carregar imagem a partir de upload**"
      ]
    },
    {
      "cell_type": "code",
      "metadata": {
        "id": "9H5sccNx2BN7"
      },
      "source": [
        "uploaded = files.upload()\n",
        "#Clicando em Files no canto esquerdo é possível visualizar os arquivos"
      ],
      "execution_count": null,
      "outputs": []
    },
    {
      "cell_type": "markdown",
      "metadata": {
        "id": "vDHKRQgU5Ecn"
      },
      "source": [
        "**OpenCV**"
      ]
    },
    {
      "cell_type": "code",
      "metadata": {
        "id": "J6z1ptaGFl2q"
      },
      "source": [
        "import cv2\n",
        "from google.colab import files"
      ],
      "execution_count": null,
      "outputs": []
    },
    {
      "cell_type": "code",
      "metadata": {
        "id": "v4L3a1ED1_qw"
      },
      "source": [
        "imagem = cv2.imread('Clayton_R_Paul_Eletromagnetismo_para_engenheiros_Cap_6_Ex_6_10_Capa.png')\n",
        "cv2_imshow(imagem)"
      ],
      "execution_count": null,
      "outputs": []
    },
    {
      "cell_type": "markdown",
      "metadata": {
        "id": "cf5JhaPG8iiH"
      },
      "source": [
        "# **Carregar vídeo**"
      ]
    },
    {
      "cell_type": "code",
      "metadata": {
        "id": "oVeW_sSp8ymT"
      },
      "source": [
        "#Pixabay: Entre no vídeo -> Download Grátis -> Selecione a opção -> Copie o link do botão Download -> Remova \"?attachment\" -> Abra o novo link -> Copie o link\n",
        "!wget -O 'video.mp4' 'https://vod-progressive.akamaized.net/exp=1619867477~acl=%2Fvimeo-prod-skyfire-std-us%2F01%2F362%2F18%2F451812879%2F1987839148.mp4~hmac=7a20b5e30ca03d9062671f6ae564318ead8908ad1b8e5652283ca1762a9751b8/vimeo-prod-skyfire-std-us/01/362/18/451812879/1987839148.mp4?filename=Matrix+-+47802.mp4'\n",
        "#Vídeo de ChristianBodhi"
      ],
      "execution_count": null,
      "outputs": []
    },
    {
      "cell_type": "markdown",
      "metadata": {
        "id": "63tptj0bunM9"
      },
      "source": [
        "**IPython.display**"
      ]
    },
    {
      "cell_type": "code",
      "metadata": {
        "id": "F_DTrbCpiepK"
      },
      "source": [
        "import os\n",
        "from IPython.display import HTML\n",
        "from base64 import b64encode\n",
        "path_video = os.path.join(\"\",\"video.mp4\")\n",
        "\n",
        "# Mostrar video\n",
        "mp4 = open(path_video,'rb').read()\n",
        "data_url = \"data:video/mp4;base64,\" + b64encode(mp4).decode()\n",
        "HTML(\"\"\"\n",
        "<video width=600 controls>\n",
        "      <source src=\"%s\" type=\"video/mp4\">\n",
        "</video>\n",
        "\"\"\" % data_url)\n",
        "#https://stackoverflow.com/questions/57377185/how-play-mp4-video-in-google-colab"
      ],
      "execution_count": null,
      "outputs": []
    },
    {
      "cell_type": "markdown",
      "metadata": {
        "id": "ataq91CUugzl"
      },
      "source": [
        "**OpenCV**"
      ]
    },
    {
      "cell_type": "code",
      "metadata": {
        "id": "fP_TxCRweAuo"
      },
      "source": [
        "from google.colab.patches import cv2_imshow\n",
        "import cv2\n",
        "\n",
        "cap = cv2.VideoCapture('video.mp4')\n",
        "while cap.isOpened():\n",
        "    ret, image = cap.read()\n",
        "\n",
        "    if not ret:\n",
        "      break\n",
        "\n",
        "    cv2_imshow(image) # Note cv2_imshow em vez de cv2.imshow\n",
        "\n",
        "    cv2.waitKey(1) & 0xff\n",
        "\n",
        "cv2.destroyAllWindows()\n",
        "cap.release()"
      ],
      "execution_count": null,
      "outputs": []
    },
    {
      "cell_type": "markdown",
      "metadata": {
        "id": "iiUZ0AHZ8sjj"
      },
      "source": [
        "# **Carregar webcam**"
      ]
    },
    {
      "cell_type": "markdown",
      "metadata": {
        "id": "mVtFR7A1_4I_"
      },
      "source": [
        "**Extrair foto**"
      ]
    },
    {
      "cell_type": "code",
      "metadata": {
        "id": "tEEM0xA52kPP"
      },
      "source": [
        "#https://colab.research.google.com/notebooks/snippets/advanced_outputs.ipynb#scrollTo=SucxddsPhOmj\n",
        "from IPython.display import display, Javascript\n",
        "from google.colab.output import eval_js\n",
        "from base64 import b64decode\n",
        "\n",
        "def take_photo(filename='photo.jpg', quality=0.8):\n",
        "  js = Javascript('''\n",
        "    async function takePhoto(quality) {\n",
        "      const div = document.createElement('div');\n",
        "      const capture = document.createElement('button');\n",
        "      capture.textContent = 'Capture';\n",
        "      div.appendChild(capture);\n",
        "\n",
        "      const video = document.createElement('video');\n",
        "      video.style.display = 'block';\n",
        "      const stream = await navigator.mediaDevices.getUserMedia({video: true});\n",
        "\n",
        "      document.body.appendChild(div);\n",
        "      div.appendChild(video);\n",
        "      video.srcObject = stream;\n",
        "      await video.play();\n",
        "\n",
        "      // Resize the output to fit the video element.\n",
        "      google.colab.output.setIframeHeight(document.documentElement.scrollHeight, true);\n",
        "\n",
        "      // Wait for Capture to be clicked.\n",
        "      await new Promise((resolve) => capture.onclick = resolve);\n",
        "\n",
        "      const canvas = document.createElement('canvas');\n",
        "      canvas.width = video.videoWidth;\n",
        "      canvas.height = video.videoHeight;\n",
        "      canvas.getContext('2d').drawImage(video, 0, 0);\n",
        "      stream.getVideoTracks()[0].stop();\n",
        "      div.remove();\n",
        "      return canvas.toDataURL('image/jpeg', quality);\n",
        "    }\n",
        "    ''')\n",
        "  display(js)\n",
        "  data = eval_js('takePhoto({})'.format(quality))\n",
        "  binary = b64decode(data.split(',')[1])\n",
        "  with open(filename, 'wb') as f:\n",
        "    f.write(binary)\n",
        "  return filename"
      ],
      "execution_count": null,
      "outputs": []
    },
    {
      "cell_type": "code",
      "metadata": {
        "id": "CF4660Vm4955"
      },
      "source": [
        "from IPython.display import Image\n",
        "try:\n",
        "  filename = take_photo()\n",
        "  print('Saved to {}'.format(filename))\n",
        "  \n",
        "  # Show the image which was just taken.\n",
        "  display(Image(filename))\n",
        "except Exception as err:\n",
        "  # Errors will be thrown if the user does not have a webcam or if they do not\n",
        "  # grant the page permission to access it.\n",
        "  print(str(err))"
      ],
      "execution_count": null,
      "outputs": []
    },
    {
      "cell_type": "markdown",
      "metadata": {
        "id": "SXOhFzxhACp6"
      },
      "source": [
        "**Carregar vídeo**\n"
      ]
    },
    {
      "cell_type": "code",
      "metadata": {
        "id": "nCShpzjI5C-7"
      },
      "source": [
        "from IPython.display import display, Javascript\n",
        "from google.colab.output import eval_js\n",
        "from base64 import b64decode\n",
        "#https://colab.research.google.com/drive/1xdjyBiY75MAVRSjgmiqI7pbRLn58VrbE?usp=sharing#scrollTo=xZk68RUQW3Xq\n",
        "# JavaScript to properly create our live video stream using our webcam as input\n",
        "def video_stream():\n",
        "  js = Javascript('''\n",
        "    var video;\n",
        "    var div = null;\n",
        "    var stream;\n",
        "    var captureCanvas;\n",
        "    var imgElement;\n",
        "    var labelElement;\n",
        "    \n",
        "    var pendingResolve = null;\n",
        "    var shutdown = false;\n",
        "    \n",
        "    function removeDom() {\n",
        "       stream.getVideoTracks()[0].stop();\n",
        "       video.remove();\n",
        "       div.remove();\n",
        "       video = null;\n",
        "       div = null;\n",
        "       stream = null;\n",
        "       imgElement = null;\n",
        "       captureCanvas = null;\n",
        "       labelElement = null;\n",
        "    }\n",
        "    \n",
        "    function onAnimationFrame() {\n",
        "      if (!shutdown) {\n",
        "        window.requestAnimationFrame(onAnimationFrame);\n",
        "      }\n",
        "      if (pendingResolve) {\n",
        "        var result = \"\";\n",
        "        if (!shutdown) {\n",
        "          captureCanvas.getContext('2d').drawImage(video, 0, 0, 640, 480);\n",
        "          result = captureCanvas.toDataURL('image/jpeg', 0.8)\n",
        "        }\n",
        "        var lp = pendingResolve;\n",
        "        pendingResolve = null;\n",
        "        lp(result);\n",
        "      }\n",
        "    }\n",
        "    \n",
        "    async function createDom() {\n",
        "      if (div !== null) {\n",
        "        return stream;\n",
        "      }\n",
        "\n",
        "      div = document.createElement('div');\n",
        "      div.style.border = '2px solid black';\n",
        "      div.style.padding = '3px';\n",
        "      div.style.width = '100%';\n",
        "      div.style.maxWidth = '600px';\n",
        "      document.body.appendChild(div);\n",
        "      \n",
        "      const modelOut = document.createElement('div');\n",
        "      modelOut.innerHTML = \"<span>Status:</span>\";\n",
        "      labelElement = document.createElement('span');\n",
        "      labelElement.innerText = 'No data';\n",
        "      labelElement.style.fontWeight = 'bold';\n",
        "      modelOut.appendChild(labelElement);\n",
        "      div.appendChild(modelOut);\n",
        "           \n",
        "      video = document.createElement('video');\n",
        "      video.style.display = 'block';\n",
        "      video.width = div.clientWidth - 6;\n",
        "      video.setAttribute('playsinline', '');\n",
        "      video.onclick = () => { shutdown = true; };\n",
        "      stream = await navigator.mediaDevices.getUserMedia(\n",
        "          {video: { facingMode: \"environment\"}});\n",
        "      div.appendChild(video);\n",
        "\n",
        "      imgElement = document.createElement('img');\n",
        "      imgElement.style.position = 'absolute';\n",
        "      imgElement.style.zIndex = 1;\n",
        "      imgElement.onclick = () => { shutdown = true; };\n",
        "      div.appendChild(imgElement);\n",
        "      \n",
        "      const instruction = document.createElement('div');\n",
        "      instruction.innerHTML = \n",
        "          '<span style=\"color: red; font-weight: bold;\">' +\n",
        "          'When finished, click here or on the video to stop this demo</span>';\n",
        "      div.appendChild(instruction);\n",
        "      instruction.onclick = () => { shutdown = true; };\n",
        "      \n",
        "      video.srcObject = stream;\n",
        "      await video.play();\n",
        "\n",
        "      captureCanvas = document.createElement('canvas');\n",
        "      captureCanvas.width = 640; //video.videoWidth;\n",
        "      captureCanvas.height = 480; //video.videoHeight;\n",
        "      window.requestAnimationFrame(onAnimationFrame);\n",
        "      \n",
        "      return stream;\n",
        "    }\n",
        "    async function stream_frame(label, imgData) {\n",
        "      if (shutdown) {\n",
        "        removeDom();\n",
        "        shutdown = false;\n",
        "        return '';\n",
        "      }\n",
        "\n",
        "      var preCreate = Date.now();\n",
        "      stream = await createDom();\n",
        "      \n",
        "      var preShow = Date.now();\n",
        "      if (label != \"\") {\n",
        "        labelElement.innerHTML = label;\n",
        "      }\n",
        "            \n",
        "      if (imgData != \"\") {\n",
        "        var videoRect = video.getClientRects()[0];\n",
        "        imgElement.style.top = videoRect.top + \"px\";\n",
        "        imgElement.style.left = videoRect.left + \"px\";\n",
        "        imgElement.style.width = videoRect.width + \"px\";\n",
        "        imgElement.style.height = videoRect.height + \"px\";\n",
        "        imgElement.src = imgData;\n",
        "      }\n",
        "      \n",
        "      var preCapture = Date.now();\n",
        "      var result = await new Promise(function(resolve, reject) {\n",
        "        pendingResolve = resolve;\n",
        "      });\n",
        "      shutdown = false;\n",
        "      \n",
        "      return {'create': preShow - preCreate, \n",
        "              'show': preCapture - preShow, \n",
        "              'capture': Date.now() - preCapture,\n",
        "              'img': result};\n",
        "    }\n",
        "    ''')\n",
        "\n",
        "  display(js)\n",
        "  \n",
        "def video_frame(label, bbox):\n",
        "  data = eval_js('stream_frame(\"{}\", \"{}\")'.format(label, bbox))\n",
        "  return data\n"
      ],
      "execution_count": null,
      "outputs": []
    },
    {
      "cell_type": "code",
      "metadata": {
        "id": "jfIz2zGfAIN7"
      },
      "source": [
        "# start streaming video from webcam\n",
        "video_stream()\n",
        "# label for video\n",
        "label_html = 'Capturing...'\n",
        "# initialze bounding box to empty\n",
        "bbox = ''\n",
        "count = 0 \n",
        "while True:\n",
        "    js_reply = video_frame(label_html, bbox)\n",
        "    if not js_reply:\n",
        "        break\n",
        "\n",
        "    # convert JS response to OpenCV Image\n",
        "    #frame = js_to_image(js_reply[\"img\"])"
      ],
      "execution_count": null,
      "outputs": []
    },
    {
      "cell_type": "code",
      "metadata": {
        "id": "NAMaUYRHAPU0"
      },
      "source": [
        ""
      ],
      "execution_count": null,
      "outputs": []
    }
  ]
}